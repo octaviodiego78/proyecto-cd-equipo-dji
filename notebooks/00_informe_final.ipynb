{
 "cells": [
  {
   "cell_type": "markdown",
   "metadata": {},
   "source": [
    "# Gold price vs S&P 500"
   ]
  },
  {
   "cell_type": "markdown",
   "metadata": {},
   "source": [
    "## Introducción"
   ]
  },
  {
   "cell_type": "markdown",
   "metadata": {},
   "source": [
    "El precio del oro ha sido históricamente un indicador clave de estabilidad económica y refugio frente a la incertidumbre financiera. De manera paralela, el índice S&P 500 refleja el desempeño del mercado bursátil estadounidense, siendo un barómetro de la confianza de los inversores y la salud económica general. La relación entre ambos activos financieros ha sido objeto de estudio, ya que los movimientos del mercado accionario pueden influir en la demanda de oro y viceversa. Este proyecto busca explorar y modelar esta relación mediante datos históricos obtenidos de Yahoo Finance, con el objetivo de predecir el precio del oro utilizando información del S&P 500."
   ]
  },
  {
   "cell_type": "markdown",
   "metadata": {},
   "source": [
    "## Antecedentes"
   ]
  },
  {
   "cell_type": "markdown",
   "metadata": {},
   "source": [
    "Diversos estudios financieros han analizado la relación entre los mercados bursátiles y los precios de los metales preciosos. Durante períodos de alta volatilidad en los mercados accionarios, el oro suele comportarse como un activo de refugio, aumentando su demanda y precio. Por otro lado, en períodos de crecimiento económico, los inversores tienden a desplazar capital hacia acciones, afectando la dinámica del mercado del oro. Herramientas de análisis cuantitativo y modelos predictivos basados en series temporales o aprendizaje automático permiten estudiar estos patrones y generar predicciones más precisas. Yahoo Finance se presenta como una fuente confiable de datos históricos tanto del oro como del S&P 500, lo que facilita la construcción de modelos de predicción."
   ]
  },
  {
   "cell_type": "markdown",
   "metadata": {},
   "source": [
    "## Objetivos"
   ]
  },
  {
   "cell_type": "markdown",
   "metadata": {},
   "source": [
    "### Objetivo General:"
   ]
  },
  {
   "cell_type": "markdown",
   "metadata": {},
   "source": [
    "- Desarrollar un modelo predictivo que estime el precio del oro utilizando información histórica del S&P 500 y del propio oro."
   ]
  },
  {
   "cell_type": "markdown",
   "metadata": {},
   "source": [
    "### Objetivos Específicos:"
   ]
  },
  {
   "cell_type": "markdown",
   "metadata": {},
   "source": [
    "- Recopilar y limpiar datos históricos del precio del oro y del S&P 500 desde Yahoo Finance.\n",
    "- Analizar la relación estadística y correlación entre el oro y el S&P 500.\n",
    "- Implementar modelos de predicción (series de tiempo, regresión o machine learning) para estimar el precio del oro.\n",
    "- Evaluar la precisión de los modelos mediante métricas de error y validación cruzada."
   ]
  },
  {
   "cell_type": "markdown",
   "metadata": {},
   "source": [
    "## Planteamiento del Problema"
   ]
  },
  {
   "cell_type": "markdown",
   "metadata": {},
   "source": [
    "El precio del oro está sujeto a múltiples factores económicos, incluyendo la inflación, la política monetaria y la dinámica del mercado de acciones. Predecir su comportamiento representa un desafío debido a la volatilidad de estos factores y la interdependencia con otros activos financieros como el S&P 500. El problema central que se aborda en este proyecto es determinar si los datos históricos del S&P 500 pueden servir como predictor confiable para el precio del oro, y desarrollar un modelo que permita anticipar sus movimientos con suficiente precisión para análisis financieros o estrategias de inversión."
   ]
  },
  {
   "cell_type": "markdown",
   "metadata": {},
   "source": []
  }
 ],
 "metadata": {
  "language_info": {
   "name": "python"
  }
 },
 "nbformat": 4,
 "nbformat_minor": 2
}
